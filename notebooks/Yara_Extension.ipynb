{
 "cells": [
  {
   "cell_type": "code",
   "execution_count": 1,
   "metadata": {},
   "outputs": [],
   "source": [
    "import numpy as np\n",
    "import pandas as pd\n",
    "import matplotlib.pyplot as plt\n",
    "from scipy import stats\n",
    "import os\n",
    "import random"
   ]
  },
  {
   "cell_type": "code",
   "execution_count": null,
   "metadata": {},
   "outputs": [],
   "source": [
    "binary_dir = '../embedded_binaries/'\n",
    "files = os.listdir(binary_dir)\n",
    "nps = [x for x in files if x.endswith('.npy')]\n",
    "fns = [x for x in files if x.endswith('.txt')]\n",
    "\n",
    "results_dir = '../yara/results/'\n",
    "result_files = os.listdir(results_dir)"
   ]
  },
  {
   "cell_type": "code",
   "execution_count": null,
   "metadata": {},
   "outputs": [],
   "source": [
    "def get_top_N(target_file, n, filenames, numpy_files):\n",
    "    min_bhatt = 1\n",
    "    top_n = [(1, 'NULL')]\n",
    "    for np_, fn_ in zip(numpy_files, filenames):\n",
    "        compare_batch = np.load(binary_dir + np_)\n",
    "        compare_batch_fn = [x.strip('\\n') for x in open(binary_dir + fn_, \"r\")]\n",
    "        total_bhatt = 0\n",
    "        for compare_file, compare_fn in zip(compare_batch, compare_batch_fn):\n",
    "            total_p = 0\n",
    "            for em_dim in range(256):\n",
    "                m1 = target_file[em_dim][0]\n",
    "                std1 = target_file[em_dim][1]\n",
    "                m2 = compare_file[em_dim][0]\n",
    "                std2 = compare_file[em_dim][1]\n",
    "\n",
    "                var_a = std1**2\n",
    "                var_b = std2**2\n",
    "\n",
    "                comp1 = np.log((var_a / var_b + var_b / var_a + 2) / 4) / 4\n",
    "                comp2 = (((m1 - m2)**2) / (var_a + var_b)) / 4\n",
    "                bhatt = comp1 + comp2\n",
    "                total_bhatt += bhatt\n",
    "            average_bhatt = total_bhatt / 256\n",
    "            if average_bhatt < min_bhatt and average_bhatt > 0:\n",
    "                min_bhatt = average_bhatt\n",
    "            top_n_vals = [x[0] for x in top_n]\n",
    "            min_top_n = max(top_n_vals)\n",
    "            min_top_n_idx = top_n_vals.index(max(top_n_vals))\n",
    "            if average_bhatt < min_top_n and average_bhatt > 0:\n",
    "                if len(top_n) < n:\n",
    "                    top_n.append((average_bhatt, compare_fn))\n",
    "                else:\n",
    "                    top_n.pop(min_top_n_idx)\n",
    "                    top_n.append((average_bhatt, compare_fn))\n",
    "    return pd.DataFrame(top_n).sort_values(by=0)"
   ]
  },
  {
   "cell_type": "code",
   "execution_count": null,
   "metadata": {},
   "outputs": [],
   "source": [
    "rules_results = []\n",
    "with open('/Users/malware/Downloads/results/antidebug_rules_results.txt') as f:\n",
    "    for line in f.readlines():\n",
    "        rules, results = line.split()\n",
    "        result = results.split('/')[-1]\n",
    "        rules_results.append((rules, result))"
   ]
  },
  {
   "cell_type": "code",
   "execution_count": null,
   "metadata": {},
   "outputs": [],
   "source": [
    "rr_df = pd.DataFrame(rules_results)"
   ]
  },
  {
   "cell_type": "code",
   "execution_count": null,
   "metadata": {},
   "outputs": [],
   "source": [
    "top_ns = {}\n",
    "for match in rr_df[rr_df[0]=='SEH__vba'][1].values:\n",
    "    target_file_name = match\n",
    "    for fn in fns:\n",
    "        target_file_idx = 0\n",
    "        for x in open(\"../embedded_binaries/\"+fn, \"r\"):\n",
    "            if x.strip('\\n') == target_file_name:\n",
    "                idx = int(fn.split('batch_p_')[1].split('_')[0])\n",
    "                target_batch = np.load('../embedded_binaries/batch_p_{}.npy'.format(idx))\n",
    "                target_file = target_batch[target_file_idx]\n",
    "            target_file_idx += 1\n",
    "    top_n = get_top_N(target_file, 10, fns, nps)\n",
    "    for tn in top_n[1].values:\n",
    "        if tn in top_ns:\n",
    "            top_ns[tn] += 1\n",
    "        else:\n",
    "            top_ns[tn] = 1\n",
    "    print(top_ns)"
   ]
  },
  {
   "cell_type": "code",
   "execution_count": null,
   "metadata": {},
   "outputs": [],
   "source": [
    "for i in rr_df[rr_df[0]=='hikit_xor_decode'][1].values:\n",
    "    if i not in top_ns.keys():\n",
    "        print(i)"
   ]
  },
  {
   "cell_type": "code",
   "execution_count": null,
   "metadata": {},
   "outputs": [],
   "source": []
  }
 ],
 "metadata": {
  "kernelspec": {
   "display_name": "Python 3",
   "language": "python",
   "name": "python3"
  },
  "language_info": {
   "codemirror_mode": {
    "name": "ipython",
    "version": 3
   },
   "file_extension": ".py",
   "mimetype": "text/x-python",
   "name": "python",
   "nbconvert_exporter": "python",
   "pygments_lexer": "ipython3",
   "version": "3.7.1"
  }
 },
 "nbformat": 4,
 "nbformat_minor": 2
}
